{
 "cells": [
  {
   "cell_type": "markdown",
   "id": "508aca0d",
   "metadata": {},
   "source": [
    "1. What is a random variable in probability theory?\n",
    "\n",
    "Ans:In probability theory, a random variable is a numerical quantity whose value depends on the outcome of a random experiment. It provides a way to map uncertain outcomes from a sample space to real numbers. There are two main types of random variables: discrete and continuous. A discrete random variable takes on a countable number of distinct values, such as the result of rolling a die or the number of heads in three coin tosses. In contrast, a continuous random variable can take on infinitely many values within a given range, such as the time taken to complete a task or the temperature on a given day.\n"
   ]
  },
  {
   "cell_type": "markdown",
   "id": "3355fde4",
   "metadata": {},
   "source": [
    "2.What are the types of random variables?\n",
    "\n",
    "Ans:Random variables are generally classified into two main types: \n",
    " discrete and continuous. A discrete random variable takes on a countable number of distinct values, typically arising from counting processes. For example, the number of heads in three coin tosses, the number of students in a classroom, or the number of emails received in a day are all examples of discrete random variables. These variables have a corresponding probability mass function (PMF), which assigns probabilities to each possible value the variable can take.\n",
    "On the other hand,\n",
    "a continuous random variable can take on an uncountable and infinite number of values within a given range, usually resulting from measurement processes. Examples include the time it takes to run a marathon, the temperature on a specific day, or the height of individuals. Unlike discrete variables, continuous random variables are described using a probability density function (PDF), and the probability of the variable taking an exact value is zero—instead, probabilities are calculated over intervals. This distinction is fundamental in probability theory and statistics, as it determines the appropriate methods for analyzing and interpreting data based on the nature of the variable involved.\n"
   ]
  },
  {
   "cell_type": "markdown",
   "id": "1353cd61",
   "metadata": {},
   "source": [
    "3. Explain the difference between discrete and continuous distributions.\n",
    "\n",
    "Ans:The difference between discrete and continuous distributions lies in the type of values their corresponding random variables can take and how probabilities are assigned.\n",
    "A discrete distribution describes the probability of outcomes of a discrete random variable, which takes on a countable number of distinct values. These values are often integers, and each one has a specific, non-zero probability assigned to it using a probability mass function (PMF). For example, the number of times a coin lands heads in 5 tosses or the number of students present in class are governed by discrete distributions. Common discrete distributions include the Binomial, Poisson, and Geometric distributions.\n",
    "In contrast, a continuous distribution describes the probabilities of a continuous random variable, which can take on an infinite number of possible values within a given range. Since the number of possible values is uncountable, the probability of the variable taking any single, exact value is zero. Instead, probabilities are assigned to intervals of values using a probability density function (PDF). Examples of continuous distributions include the Normal (Gaussian), Exponential, and Uniform distributions. These are typically used to model measurements like height, weight, or time.\n",
    "\n",
    "In summary, discrete distributions deal with countable outcomes and use PMFs, while continuous distributions deal with measurable outcomes over intervals and use PDFs.\n"
   ]
  },
  {
   "cell_type": "markdown",
   "id": "33466e3e",
   "metadata": {},
   "source": [
    "4.What is a binomial distribution, and how is it used in probability?\n",
    "\n",
    "Ans:The binomial distribution is a way to calculate the probability of getting a certain number of successes in a fixed number of yes-or-no experiments, called trials. Each trial has only two outcomes: success or failure, and the chance of success is the same every time.\n",
    "In short, binomial distribution helps when you're doing something over and over again, with only two outcomes each time, and you want to know the chance of getting a certain number of successes.\n",
    "\n"
   ]
  },
  {
   "cell_type": "markdown",
   "id": "9b33e3d7",
   "metadata": {},
   "source": [
    "5.What is the standard normal distribution, and why is it important?\n",
    "\n",
    "Ans:The standard normal distribution is a special case of the normal distribution that has a mean of 0 and a standard deviation of 1. It is represented by a symmetrical, bell-shaped curve centered at zero. This distribution is important in statistics because it provides a common reference for comparing different sets of data through a process called standardization. By converting raw scores into z-scores, which measure how many standard deviations a value is from the mean, we can analyze and interpret data more easily, regardless of the original scale. The standard normal distribution is also the foundation for many statistical methods, including hypothesis testing, confidence intervals, and significance testing. Additionally, it simplifies the calculation of probabilities, since statistical tables and software are widely available for it. This makes it highly useful in real-life applications such as analyzing exam scores, measuring heights, and evaluating experimental errors.\n"
   ]
  },
  {
   "cell_type": "markdown",
   "id": "c9353e48",
   "metadata": {},
   "source": [
    "6.What is the Central Limit Theorem (CLT), and why is it critical in statistics?\n",
    "\n",
    "Ans:The Central Limit Theorem (CLT) is a fundamental concept in statistics that explains how the distribution of sample means becomes approximately normal, regardless of the original distribution of the data, as the sample size becomes large enough.\n",
    "In simpler terms, the CLT states that if you take many random samples of a given size from any population with a known mean and finite variance, and calculate the mean of each sample, then the distribution of those sample means will tend to form a normal distribution as the sample size increases. This holds true even if the original data is not normally distributed, as long as the sample size is sufficiently large, usually around 30 or more.\n",
    "The CLT is critical in statistics because it allows us to make inferences about population parameters using sample statistics. It is the reason why the normal distribution is widely used in hypothesis testing, confidence intervals, and control charts. Thanks to the CLT, statisticians can apply techniques that assume normality even when working with non-normal data, provided the sample size is large enough. This makes it a powerful and essential tool in both theoretical and applied statistics.\n"
   ]
  },
  {
   "cell_type": "markdown",
   "id": "f72915e5",
   "metadata": {},
   "source": [
    "7. What is the significance of confidence intervals in statistical analysis?\n",
    "\n",
    "Ans:Confidence intervals are important in statistical analysis because they provide a range of values that is likely to contain the true population parameter, such as a mean or proportion. Instead of offering just a single estimate from a sample, a confidence interval reflects the uncertainty or margin of error around that estimate. For instance, if a confidence interval for the average height of students is calculated to be between 160 cm and 170 cm with 95 percent confidence, it means we are 95 percent confident that the true average height of all students lies within that range. This does not guarantee that the true value is in the interval, but it implies that if the study were repeated many times, about 95 percent of those intervals would include the true value. Confidence intervals help researchers understand the reliability of their estimates, make informed decisions under uncertainty, and compare groups or test hypotheses with a clear sense of possible variation. They are a practical and meaningful way to interpret statistical results beyond simple point estimates or p-values.\n"
   ]
  },
  {
   "cell_type": "markdown",
   "id": "c55d22c7",
   "metadata": {},
   "source": [
    "8: What is the concept of expected value in a probability distribution?\n",
    "Ans:The expected value in a probability distribution is the average outcome you would expect if you repeated an experiment many times. It gives you an idea of the typical result you can expect over the long run.\n",
    "\n",
    "For example, if you roll a fair six-sided die many times, the expected value of the outcome is the average of all the results over time, which is around 3.5. Even though 3.5 is not an actual result you can roll, it represents the balance point of all possible outcomes.\n",
    "\n",
    "The expected value is useful because it helps you make decisions when outcomes are uncertain. Whether you are playing a game, making a business choice, or evaluating risk, the expected value gives a single number that summarizes what you might expect to happen on average.\n"
   ]
  },
  {
   "cell_type": "code",
   "execution_count": 2,
   "id": "2d1c16ad",
   "metadata": {},
   "outputs": [],
   "source": [
    "#9.Write a Python program to generate 1000 random numbers from a normal\n",
    "#distribution with mean = 50 and standard deviation = 5. Compute its mean and standard\n",
    "#deviation using NumPy, and draw a histogram to visualize the distribution."
   ]
  },
  {
   "cell_type": "code",
   "execution_count": 3,
   "id": "12b41891",
   "metadata": {},
   "outputs": [
    {
     "name": "stdout",
     "output_type": "stream",
     "text": [
      "Mean of the distribution: 49.95631421273596\n",
      "Standard Deviation of the distribution: 5.121984988288016\n"
     ]
    },
    {
     "data": {
      "image/png": "[encoded data removed]",
      "text/plain": [
       "<Figure size 640x480 with 1 Axes>"
      ]
     },
     "metadata": {},
     "output_type": "display_data"
    }
   ],
   "source": [
    "import numpy as np\n",
    "import matplotlib.pyplot as plt\n",
    "\n",
    "# Generate 1000 random numbers from a normal distribution (mean=50, std=5)\n",
    "data = np.random.normal(loc=50, scale=5, size=1000)\n",
    "\n",
    "# Compute mean and standard deviation\n",
    "mean = np.mean(data)\n",
    "std_dev = np.std(data)\n",
    "\n",
    "# Print results\n",
    "print(\"Mean of the distribution:\", mean)\n",
    "print(\"Standard Deviation of the distribution:\", std_dev)\n",
    "\n",
    "# Plot histogram\n",
    "plt.hist(data, bins=30, color='skyblue', edgecolor='black')\n",
    "plt.title('Histogram of Normally Distributed Data')\n",
    "plt.xlabel('Value')\n",
    "plt.ylabel('Frequency')\n",
    "plt.grid(True)\n",
    "plt.show()\n"
   ]
  },
  {
   "cell_type": "code",
   "execution_count": 4,
   "id": "b2db7f19",
   "metadata": {},
   "outputs": [],
   "source": [
    "#10: You are working as a data analyst for a retail company. The company has\n",
    "#collected daily sales data for 2 years and wants you to identify the overall sales trend.\n",
    "#daily_sales = [220, 245, 210, 265, 230, 250, 260, 275, 240, 255,\n",
    "#235, 260, 245, 250, 225, 270, 265, 255, 250, 260]\n",
    "#● Explain how you would apply the Central Limit Theorem to estimate the average sales\n",
    "#with a 95% confidence interval.\n",
    "#● Write the Python code to compute the mean sales and its confidence interval.\n"
   ]
  },
  {
   "cell_type": "code",
   "execution_count": 5,
   "id": "34387b47",
   "metadata": {},
   "outputs": [
    {
     "name": "stdout",
     "output_type": "stream",
     "text": [
      "Mean Daily Sales: 248.25\n",
      "95% Confidence Interval: (240.17, 256.33)\n"
     ]
    }
   ],
   "source": [
    "import numpy as np\n",
    "import scipy.stats as stats\n",
    "\n",
    "# Given daily sales data\n",
    "daily_sales = [220, 245, 210, 265, 230, 250, 260, 275, 240, 255,\n",
    "               235, 260, 245, 250, 225, 270, 265, 255, 250, 260]\n",
    "\n",
    "# Calculate sample mean and standard error\n",
    "mean_sales = np.mean(daily_sales)\n",
    "std_sales = np.std(daily_sales, ddof=1)  # Sample standard deviation\n",
    "n = len(daily_sales)\n",
    "standard_error = std_sales / np.sqrt(n)\n",
    "\n",
    "# 95% confidence interval using t-distribution\n",
    "confidence_level = 0.95\n",
    "t_critical = stats.t.ppf((1 + confidence_level) / 2, df=n - 1)\n",
    "\n",
    "margin_of_error = t_critical * standard_error\n",
    "ci_lower = mean_sales - margin_of_error\n",
    "ci_upper = mean_sales + margin_of_error\n",
    "\n",
    "# Output results\n",
    "print(f\"Mean Daily Sales: {mean_sales:.2f}\")\n",
    "print(f\"95% Confidence Interval: ({ci_lower:.2f}, {ci_upper:.2f})\")\n"
   ]
  }
 ],
 "metadata": {
  "kernelspec": {
   "display_name": "Python 3 (ipykernel)",
   "language": "python",
   "name": "python3"
  },
  "language_info": {
   "codemirror_mode": {
    "name": "ipython",
    "version": 3
   },
   "file_extension": ".py",
   "mimetype": "text/x-python",
   "name": "python",
   "nbconvert_exporter": "python",
   "pygments_lexer": "ipython3",
   "version": "3.11.3"
  }
 },
 "nbformat": 4,
 "nbformat_minor": 5
}
